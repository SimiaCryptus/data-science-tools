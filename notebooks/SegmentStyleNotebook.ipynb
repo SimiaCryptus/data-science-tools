{
  "metadata" : {
    "config" : {
      "dependencies" : {
        
      },
      "exclusions" : [
      ],
      "repositories" : [
      ],
      "sparkConfig" : {
        
      }
    }
  },
  "nbformat" : 4,
  "nbformat_minor" : 0,
  "cells" : [
    {
      "cell_type" : "markdown",
      "execution_count" : 0,
      "metadata" : {
        "language" : "text"
      },
      "language" : "text",
      "source" : [
        "# SegmentStyleNotebook\n",
        "\n",
        "This is a text cell. Start editing!"
      ],
      "outputs" : [
      ]
    },
    {
      "cell_type" : "code",
      "execution_count" : 1,
      "metadata" : {
        "cell.metadata.exec_info" : {
          "startTs" : 1572223193802,
          "endTs" : 1572223194771
        },
        "language" : "scala"
      },
      "language" : "scala",
      "source" : [
        "\r\n",
        "import java.awt.Color._\r\n",
        "import java.awt.image.BufferedImage\r\n",
        "import java.awt.{Color, Desktop}\r\n",
        "import java.io.File\r\n",
        "import java.net.{URI, URL}\r\n",
        "import java.util\r\n",
        "import java.util.UUID\r\n",
        "import java.util.concurrent.Executors\r\n",
        "import java.util.concurrent.atomic.AtomicReference\r\n",
        "import java.util.stream.DoubleStream\r\n",
        "import java.util.zip.ZipFile\r\n",
        "\r\n",
        "import com.fasterxml.jackson.annotation.JsonIgnore\r\n",
        "import com.simiacryptus.mindseye.art.models.VGG16\r\n",
        "import com.simiacryptus.mindseye.art.ops.{ContentMatcher, GramMatrixEnhancer, MomentMatcher}\r\n",
        "import com.simiacryptus.mindseye.art.photo.affinity.RasterAffinity.{adjust, degree}\r\n",
        "import com.simiacryptus.mindseye.art.photo.affinity.RelativeAffinity\r\n",
        "import com.simiacryptus.mindseye.art.photo.cuda.SmoothSolver_Cuda\r\n",
        "import com.simiacryptus.mindseye.art.photo.topology.SearchRadiusTopology\r\n",
        "import com.simiacryptus.mindseye.art.photo.{FastPhotoStyleTransfer, SmoothSolver}\r\n",
        "import com.simiacryptus.mindseye.art.util._\r\n",
        "import com.simiacryptus.mindseye.eval.Trainable\r\n",
        "import com.simiacryptus.mindseye.lang.cudnn.CudaSettings\r\n",
        "import com.simiacryptus.mindseye.lang.{Coordinate, Tensor}\r\n",
        "import com.simiacryptus.mindseye.opt.Step\r\n",
        "import com.simiacryptus.mindseye.util.ImageUtil\r\n",
        "import com.simiacryptus.notebook.{NotebookOutput, NullNotebookOutput}\r\n",
        "import com.simiacryptus.sparkbook.util.Java8Util._\r\n",
        "import com.simiacryptus.util.{FastRandom, Util}\r\n",
        "import javax.imageio.ImageIO\r\n",
        "\r\n",
        "import scala.collection.mutable.ArrayBuffer\r\n",
        "import scala.concurrent.duration.Duration\r\n",
        "import scala.concurrent.{Await, ExecutionContext, Future}\r\n",
        "\r\n",
        "\r\n",
        "@JsonIgnore lazy val fastPhotoStyleTransfer = FastPhotoStyleTransfer.fromZip(new ZipFile(Util.cacheFile(new URI(\r\n",
        "  \"https://simiacryptus.s3-us-west-2.amazonaws.com/photo_wct.zip\"))))\r\n",
        "\r\n",
        "def wct(content: Tensor, style: Tensor, mask: Tensor) = {\r\n",
        "  val wctRestyled = fastPhotoStyleTransfer.photoWCT(style, content, DoubleStream.of(mask.getData: _*).average().getAsDouble, 1.0)\r\n",
        "  maskedDelta(mask, content, wctRestyled)\r\n",
        "}\r\n",
        "\r\n",
        "def maskedDelta(mask: Tensor, base: Tensor, changed: Tensor) = {\r\n",
        "  changed.mapCoordsAndFree((c: Coordinate) => {\r\n",
        "    val bg = mask.get(c)\r\n",
        "    if (bg == 1) changed.get(c)\r\n",
        "    else base.get(c)\r\n",
        "  })\r\n",
        "}\r\n",
        "\r\n",
        "def solver: SmoothSolver = new SmoothSolver_Cuda()\r\n",
        "\r\n",
        "def smoother(content: Tensor) = {\r\n",
        "  val topology = new SearchRadiusTopology(content).setSelfRef(true)\r\n",
        "  //.setVerbose(true)\r\n",
        "  var affinity = new RelativeAffinity(content, topology).setContrast(10).setGraphPower1(2).setMixing(0.2)\r\n",
        "    .wrap((graphEdges: util.List[Array[Int]], innerResult: util.List[Array[Double]]) => adjust(graphEdges, innerResult, degree(innerResult), 0.5))\r\n",
        "  solver.solve(topology, affinity, 1e-4)\r\n",
        "}\r\n",
        "\r\n",
        "def loadImage(file: String, width: Int): BufferedImage = {\r\n",
        "  resize(loadTensor(file), width).toImage\r\n",
        "}\r\n",
        "\r\n",
        "def resize(tensor: Tensor, width: Int) = {\r\n",
        "  Tensor.fromRGB(ImageUtil.resize(tensor.toImage, width, true))\r\n",
        "}\r\n",
        "\r\n",
        "def resize(foreground: Tensor, dims: Array[Int]) = {\r\n",
        "  Tensor.fromRGB(ImageUtil.resize(foreground.toImage, dims(0), dims(1)))\r\n",
        "}\r\n",
        "\r\n",
        "def loadTensor(file: String) = {\r\n",
        "  try {\r\n",
        "    val read = ImageIO.read(new URL(file.toString))\r\n",
        "    if (null == read) throw new IllegalArgumentException(\"Error reading \" + file)\r\n",
        "    Tensor.fromRGB(read)\r\n",
        "  } catch {\r\n",
        "    case e: Throwable =>\r\n",
        "      throw new RuntimeException(\"Error reading \" + file, e)\r\n",
        "  }\r\n",
        "}\r\n",
        "\r\n",
        "def dist(color: Color, x: Seq[Double]) = {\r\n",
        "  List(\r\n",
        "    color.getRed - x(2).doubleValue(),\r\n",
        "    color.getGreen - x(1).doubleValue(),\r\n",
        "    color.getBlue - x(0).doubleValue()\r\n",
        "  ).map(x => x * x).sum\r\n",
        "}\r\n",
        "\r\n",
        "def loadMasks(contentImage: BufferedImage, maskUrl: String, colors: Color*) = {\r\n",
        "  val maskTensor = resize(loadTensor(maskUrl), contentImage.getWidth)\r\n",
        "  val tensor = Tensor.fromRGB(contentImage)\r\n",
        "  try {\r\n",
        "    for (clr <- 0 until colors.size) yield {\r\n",
        "      tensor.mapCoords((coordinate: Coordinate) => {\r\n",
        "        val Array(x, y, c) = coordinate.getCoords()\r\n",
        "        val pixelColor = maskTensor.getPixel(x, y)\r\n",
        "        val closestColor = colors.zipWithIndex.sortBy(x => dist(x._1, pixelColor)).head\r\n",
        "        if (closestColor._2 == clr) {\r\n",
        "          tensor.get(coordinate)\r\n",
        "        } else {\r\n",
        "          0.0\r\n",
        "        }\r\n",
        "      })\r\n",
        "    }\r\n",
        "  } finally {\r\n",
        "    maskTensor.freeRef()\r\n",
        "    tensor.freeRef()\r\n",
        "  }\r\n",
        "}\r\n"
      ],
      "outputs" : [
        {
          "execution_count" : 1,
          "data" : {
            "application/json" : [
              {
                "pos" : {
                  "sourceId" : "Cell1",
                  "start" : 936,
                  "end" : 936,
                  "point" : 936
                },
                "msg" : "object simiacryptus is not a member of package com",
                "severity" : 2
              },
              {
                "pos" : {
                  "sourceId" : "Cell1",
                  "start" : 1311,
                  "end" : 1311,
                  "point" : 1311
                },
                "msg" : "object simiacryptus is not a member of package com",
                "severity" : 2
              },
              {
                "pos" : {
                  "sourceId" : "Cell1",
                  "start" : 853,
                  "end" : 853,
                  "point" : 853
                },
                "msg" : "object simiacryptus is not a member of package com",
                "severity" : 2
              },
              {
                "pos" : {
                  "sourceId" : "Cell1",
                  "start" : 1630,
                  "end" : 1630,
                  "point" : 1630
                },
                "msg" : "not found: value FastPhotoStyleTransfer",
                "severity" : 2
              },
              {
                "pos" : {
                  "sourceId" : "Cell1",
                  "start" : 1363,
                  "end" : 1363,
                  "point" : 1363
                },
                "msg" : "object simiacryptus is not a member of package com",
                "severity" : 2
              },
              {
                "pos" : {
                  "sourceId" : "Cell1",
                  "start" : 1673,
                  "end" : 1673,
                  "point" : 1673
                },
                "msg" : "not found: value Util",
                "severity" : 2
              },
              {
                "pos" : {
                  "sourceId" : "Cell1",
                  "start" : 360,
                  "end" : 360,
                  "point" : 360
                },
                "msg" : "object fasterxml is not a member of package com",
                "severity" : 2
              },
              {
                "pos" : {
                  "sourceId" : "Cell1",
                  "start" : 1585,
                  "end" : 1585,
                  "point" : 1585
                },
                "msg" : "not found: type JsonIgnore",
                "severity" : 2
              },
              {
                "pos" : {
                  "sourceId" : "Cell1",
                  "start" : 412,
                  "end" : 412,
                  "point" : 412
                },
                "msg" : "object simiacryptus is not a member of package com",
                "severity" : 2
              },
              {
                "pos" : {
                  "sourceId" : "Cell1",
                  "start" : 463,
                  "end" : 463,
                  "point" : 463
                },
                "msg" : "object simiacryptus is not a member of package com",
                "severity" : 2
              },
              {
                "pos" : {
                  "sourceId" : "Cell1",
                  "start" : 557,
                  "end" : 557,
                  "point" : 557
                },
                "msg" : "object simiacryptus is not a member of package com",
                "severity" : 2
              },
              {
                "pos" : {
                  "sourceId" : "Cell1",
                  "start" : 642,
                  "end" : 642,
                  "point" : 642
                },
                "msg" : "object simiacryptus is not a member of package com",
                "severity" : 2
              },
              {
                "pos" : {
                  "sourceId" : "Cell1",
                  "start" : 712,
                  "end" : 712,
                  "point" : 712
                },
                "msg" : "object simiacryptus is not a member of package com",
                "severity" : 2
              },
              {
                "pos" : {
                  "sourceId" : "Cell1",
                  "start" : 779,
                  "end" : 779,
                  "point" : 779
                },
                "msg" : "object simiacryptus is not a member of package com",
                "severity" : 2
              },
              {
                "pos" : {
                  "sourceId" : "Cell1",
                  "start" : 981,
                  "end" : 981,
                  "point" : 981
                },
                "msg" : "object simiacryptus is not a member of package com",
                "severity" : 2
              },
              {
                "pos" : {
                  "sourceId" : "Cell1",
                  "start" : 1030,
                  "end" : 1030,
                  "point" : 1030
                },
                "msg" : "object simiacryptus is not a member of package com",
                "severity" : 2
              },
              {
                "pos" : {
                  "sourceId" : "Cell1",
                  "start" : 1088,
                  "end" : 1088,
                  "point" : 1088
                },
                "msg" : "object simiacryptus is not a member of package com",
                "severity" : 2
              },
              {
                "pos" : {
                  "sourceId" : "Cell1",
                  "start" : 1148,
                  "end" : 1148,
                  "point" : 1148
                },
                "msg" : "object simiacryptus is not a member of package com",
                "severity" : 2
              },
              {
                "pos" : {
                  "sourceId" : "Cell1",
                  "start" : 1191,
                  "end" : 1191,
                  "point" : 1191
                },
                "msg" : "object simiacryptus is not a member of package com",
                "severity" : 2
              },
              {
                "pos" : {
                  "sourceId" : "Cell1",
                  "start" : 1240,
                  "end" : 1240,
                  "point" : 1240
                },
                "msg" : "object simiacryptus is not a member of package com",
                "severity" : 2
              },
              {
                "pos" : {
                  "sourceId" : "Cell1",
                  "start" : 2062,
                  "end" : 2062,
                  "point" : 2062
                },
                "msg" : "not found: type Tensor",
                "severity" : 2
              },
              {
                "pos" : {
                  "sourceId" : "Cell1",
                  "start" : 2031,
                  "end" : 2031,
                  "point" : 2031
                },
                "msg" : "not found: type Tensor",
                "severity" : 2
              },
              {
                "pos" : {
                  "sourceId" : "Cell1",
                  "start" : 2045,
                  "end" : 2045,
                  "point" : 2045
                },
                "msg" : "not found: type Tensor",
                "severity" : 2
              },
              {
                "pos" : {
                  "sourceId" : "Cell1",
                  "start" : 1817,
                  "end" : 1817,
                  "point" : 1817
                },
                "msg" : "not found: type Tensor",
                "severity" : 2
              },
              {
                "pos" : {
                  "sourceId" : "Cell1",
                  "start" : 1788,
                  "end" : 1788,
                  "point" : 1788
                },
                "msg" : "not found: type Tensor",
                "severity" : 2
              },
              {
                "pos" : {
                  "sourceId" : "Cell1",
                  "start" : 1803,
                  "end" : 1803,
                  "point" : 1803
                },
                "msg" : "not found: type Tensor",
                "severity" : 2
              },
              {
                "pos" : {
                  "sourceId" : "Cell1",
                  "start" : 2228,
                  "end" : 2228,
                  "point" : 2228
                },
                "msg" : "not found: type SmoothSolver",
                "severity" : 2
              },
              {
                "pos" : {
                  "sourceId" : "Cell1",
                  "start" : 2247,
                  "end" : 2247,
                  "point" : 2247
                },
                "msg" : "not found: type SmoothSolver_Cuda",
                "severity" : 2
              },
              {
                "pos" : {
                  "sourceId" : "Cell1",
                  "start" : 2292,
                  "end" : 2292,
                  "point" : 2292
                },
                "msg" : "not found: type Tensor",
                "severity" : 2
              },
              {
                "pos" : {
                  "sourceId" : "Cell1",
                  "start" : 2326,
                  "end" : 2326,
                  "point" : 2326
                },
                "msg" : "not found: type SearchRadiusTopology",
                "severity" : 2
              },
              {
                "pos" : {
                  "sourceId" : "Cell1",
                  "start" : 2418,
                  "end" : 2418,
                  "point" : 2418
                },
                "msg" : "not found: type RelativeAffinity",
                "severity" : 2
              },
              {
                "pos" : {
                  "sourceId" : "Cell1",
                  "start" : 2592,
                  "end" : 2592,
                  "point" : 2592
                },
                "msg" : "not found: value adjust",
                "severity" : 2
              },
              {
                "pos" : {
                  "sourceId" : "Cell1",
                  "start" : 2624,
                  "end" : 2624,
                  "point" : 2624
                },
                "msg" : "not found: value degree",
                "severity" : 2
              },
              {
                "pos" : {
                  "sourceId" : "Cell1",
                  "start" : 2977,
                  "end" : 2977,
                  "point" : 2977
                },
                "msg" : "not found: value Tensor",
                "severity" : 2
              },
              {
                "pos" : {
                  "sourceId" : "Cell1",
                  "start" : 2992,
                  "end" : 2992,
                  "point" : 2992
                },
                "msg" : "not found: value ImageUtil",
                "severity" : 2
              },
              {
                "pos" : {
                  "sourceId" : "Cell1",
                  "start" : 2944,
                  "end" : 2944,
                  "point" : 2944
                },
                "msg" : "not found: type Tensor",
                "severity" : 2
              },
              {
                "pos" : {
                  "sourceId" : "Cell1",
                  "start" : 2853,
                  "end" : 2853,
                  "point" : 2853
                },
                "msg" : "not found: value Tensor",
                "severity" : 2
              },
              {
                "pos" : {
                  "sourceId" : "Cell1",
                  "start" : 2868,
                  "end" : 2868,
                  "point" : 2868
                },
                "msg" : "not found: value ImageUtil",
                "severity" : 2
              },
              {
                "pos" : {
                  "sourceId" : "Cell1",
                  "start" : 2826,
                  "end" : 2826,
                  "point" : 2826
                },
                "msg" : "not found: type Tensor",
                "severity" : 2
              },
              {
                "pos" : {
                  "sourceId" : "Cell1",
                  "start" : 3237,
                  "end" : 3237,
                  "point" : 3237
                },
                "msg" : "not found: value Tensor",
                "severity" : 2
              },
              {
                "pos" : {
                  "sourceId" : "Cell1",
                  "start" : 3742,
                  "end" : 3742,
                  "point" : 3742
                },
                "msg" : "not found: value Tensor",
                "severity" : 2
              }
            ],
            "text/plain" : [
              "Error: object simiacryptus is not a member of package com (936)",
              "Error: object simiacryptus is not a member of package com (1311)",
              "Error: object simiacryptus is not a member of package com (853)",
              "Error: not found: value FastPhotoStyleTransfer (1630)",
              "Error: object simiacryptus is not a member of package com (1363)",
              "Error: not found: value Util (1673)",
              "Error: object fasterxml is not a member of package com (360)",
              "Error: not found: type JsonIgnore (1585)",
              "Error: object simiacryptus is not a member of package com (412)",
              "Error: object simiacryptus is not a member of package com (463)",
              "Error: object simiacryptus is not a member of package com (557)",
              "Error: object simiacryptus is not a member of package com (642)",
              "Error: object simiacryptus is not a member of package com (712)",
              "Error: object simiacryptus is not a member of package com (779)",
              "Error: object simiacryptus is not a member of package com (981)",
              "Error: object simiacryptus is not a member of package com (1030)",
              "Error: object simiacryptus is not a member of package com (1088)",
              "Error: object simiacryptus is not a member of package com (1148)",
              "Error: object simiacryptus is not a member of package com (1191)",
              "Error: object simiacryptus is not a member of package com (1240)",
              "Error: not found: type Tensor (2062)",
              "Error: not found: type Tensor (2031)",
              "Error: not found: type Tensor (2045)",
              "Error: not found: type Tensor (1817)",
              "Error: not found: type Tensor (1788)",
              "Error: not found: type Tensor (1803)",
              "Error: not found: type SmoothSolver (2228)",
              "Error: not found: type SmoothSolver_Cuda (2247)",
              "Error: not found: type Tensor (2292)",
              "Error: not found: type SearchRadiusTopology (2326)",
              "Error: not found: type RelativeAffinity (2418)",
              "Error: not found: value adjust (2592)",
              "Error: not found: value degree (2624)",
              "Error: not found: value Tensor (2977)",
              "Error: not found: value ImageUtil (2992)",
              "Error: not found: type Tensor (2944)",
              "Error: not found: value Tensor (2853)",
              "Error: not found: value ImageUtil (2868)",
              "Error: not found: type Tensor (2826)",
              "Error: not found: value Tensor (3237)",
              "Error: not found: value Tensor (3742)"
            ]
          },
          "metadata" : {
            "rel" : "compiler_errors"
          },
          "output_type" : "execute_result"
        }
      ]
    },
    {
      "cell_type" : "code",
      "execution_count" : 2,
      "metadata" : {
        "language" : "scala"
      },
      "language" : "scala",
      "source" : [
      ],
      "outputs" : [
      ]
    }
  ]
}